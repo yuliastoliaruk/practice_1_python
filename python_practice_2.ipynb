{
  "nbformat": 4,
  "nbformat_minor": 0,
  "metadata": {
    "colab": {
      "provenance": []
    },
    "kernelspec": {
      "name": "python3",
      "display_name": "Python 3"
    },
    "language_info": {
      "name": "python"
    }
  },
  "cells": [
    {
      "cell_type": "markdown",
      "source": [
        "# I. Змінні та памʼять."
      ],
      "metadata": {
        "id": "p9wwt0LZzNvn"
      }
    },
    {
      "cell_type": "markdown",
      "source": [
        "1. Створити змінні, що посилаються на два цілих числа, що однакові за значенням, де значення належить проміжку від -5 до 256. Перевірте, чи будуть ці змінні рівні тільки за значенням або ж ще будуть посилатися на один і той самий обʼєкт в памʼяті? Наведіть код та дайте текстову відповідь нижче."
      ],
      "metadata": {
        "id": "HTJrrm95xSV9"
      }
    },
    {
      "cell_type": "code",
      "execution_count": null,
      "metadata": {
        "id": "TATni2vzayjG",
        "colab": {
          "base_uri": "https://localhost:8080/"
        },
        "outputId": "63130701-9813-4c31-9e70-96569b36ca0e"
      },
      "outputs": [
        {
          "output_type": "stream",
          "name": "stdout",
          "text": [
            "is a = b: True\n",
            "id(a) = 137225791897968 \n",
            "id(b) = 137225791897968\n",
            "is a and b refer to the same object in memory: True\n"
          ]
        }
      ],
      "source": [
        "a = 5\n",
        "b = 5\n",
        "print(f'is a = b: {a == b}')\n",
        "print(f'id(a) = {id(a)} \\nid(b) = {id(b)}')\n",
        "print(f'is a and b refer to the same object in memory: {id(a) == id(b)}')"
      ]
    },
    {
      "cell_type": "markdown",
      "source": [
        "Змінні однакові за значенням, а також посилаються на один і той самий об'єкт в пам'яті."
      ],
      "metadata": {
        "id": "zfRG_o3WbRdg"
      }
    },
    {
      "cell_type": "markdown",
      "source": [
        "2. За допомогою якої функції можна перевірити належність змінної до вказаного типу даних (напр. чи змінна True посилається на значення булевого та цілочисленого типу)?"
      ],
      "metadata": {
        "id": "ISORzt6M3vAt"
      }
    },
    {
      "cell_type": "code",
      "source": [
        "var = True\n",
        "print(type(var))"
      ],
      "metadata": {
        "id": "9vL9CFaMbfyo",
        "colab": {
          "base_uri": "https://localhost:8080/"
        },
        "outputId": "0e22a7ed-d6dc-4b59-ac59-e3b3c20e06c6"
      },
      "execution_count": null,
      "outputs": [
        {
          "output_type": "stream",
          "name": "stdout",
          "text": [
            "<class 'bool'>\n"
          ]
        }
      ]
    },
    {
      "cell_type": "markdown",
      "source": [
        "# II. Цілі числа та числа з рухомою комою"
      ],
      "metadata": {
        "id": "tRxugKAxwYLw"
      }
    },
    {
      "cell_type": "markdown",
      "source": [
        "3. Створити дві змінні, що посилаються на будь-які ціле число та число з рухомою комою та продемонструвати такі арифметичні операції: додавання, віднімання, ділення, множення, ділення без залишку, ділення по модулю, приведення до ступеню. Всі результати операцій вивести на екран."
      ],
      "metadata": {
        "id": "NLHkgd5Gybc8"
      }
    },
    {
      "cell_type": "code",
      "source": [
        "a = 25\n",
        "b = 8.7\n",
        "\n",
        "sum = a + b\n",
        "subtr = a - b\n",
        "division = a / b\n",
        "multiply = a * b\n",
        "floor_division = a // b\n",
        "modulo = a % b\n",
        "pow = a ** b\n",
        "\n",
        "print(f'{a} + {b} = {sum}')\n",
        "print(f'{a} - {b} = {subtr}')\n",
        "print(f'{a} / {b} = {division}')\n",
        "print(f'{a} * {b} = {multiply}')\n",
        "print(f'{a} // {b} = {floor_division}')\n",
        "print(f'{a} % {b} = {modulo}')\n",
        "print(f'{a} ** {b} = {pow}')"
      ],
      "metadata": {
        "id": "nb8u_3pjb2cA",
        "colab": {
          "base_uri": "https://localhost:8080/"
        },
        "outputId": "602fce75-1110-4ce1-e9a7-8c7f022fc498"
      },
      "execution_count": 7,
      "outputs": [
        {
          "output_type": "stream",
          "name": "stdout",
          "text": [
            "25 + 8.7 = 33.7\n",
            "25 - 8.7 = 16.3\n",
            "25 / 8.7 = 2.873563218390805\n",
            "25 * 8.7 = 217.49999999999997\n",
            "25 // 8.7 = 2.0\n",
            "25 % 8.7 = 7.600000000000001\n",
            "25 ** 8.7 = 1452372694943.1414\n"
          ]
        }
      ]
    },
    {
      "cell_type": "markdown",
      "source": [
        "4. Використовуючи змінні з вправи 3, продемонструйте механізм явного перетворення типів, де числа з рухомою комою перетворюються на цілі числа. Також визначте змінну, що посилається на значення булевого типу і спробуйте явно привести її до цілого числа."
      ],
      "metadata": {
        "id": "1kBClKgPzZnC"
      }
    },
    {
      "cell_type": "code",
      "source": [
        "b_int = int(b)\n",
        "print(f'Type of {b_int} is {type(b_int)}')\n",
        "\n",
        "boolean = True\n",
        "\n",
        "boolean_int = int(boolean)\n",
        "print(f'Type of {boolean_int} is {type(boolean_int)}')"
      ],
      "metadata": {
        "id": "TbqJbkeUcKsD",
        "colab": {
          "base_uri": "https://localhost:8080/"
        },
        "outputId": "f4cc9330-cf21-41dc-a413-ebee10d92c71"
      },
      "execution_count": 9,
      "outputs": [
        {
          "output_type": "stream",
          "name": "stdout",
          "text": [
            "Type of 8 is <class 'int'>\n",
            "Type of 1 is <class 'int'>\n"
          ]
        }
      ]
    },
    {
      "cell_type": "markdown",
      "source": [
        "# IІІ. Рядки (String)."
      ],
      "metadata": {
        "id": "EVJ7AflwxrZi"
      }
    },
    {
      "cell_type": "markdown",
      "source": [
        "5. Створити пустий рядок двома різними способами."
      ],
      "metadata": {
        "id": "_s5ECzz9zE61"
      }
    },
    {
      "cell_type": "code",
      "source": [
        "str_1 = ''\n",
        "str_2 = str()"
      ],
      "metadata": {
        "id": "fkZJHu9Scvc-"
      },
      "execution_count": 10,
      "outputs": []
    },
    {
      "cell_type": "markdown",
      "source": [
        "6. Створити рядок з апострофом. Зробити його сирим. Вивести обидва рядка на екран."
      ],
      "metadata": {
        "id": "4Bdn9J3MzLf_"
      }
    },
    {
      "cell_type": "code",
      "source": [
        "s = \"My cat's toy\"\n",
        "s_raw = r\"{}\".format(s)\n",
        "\n",
        "print(s)\n",
        "print(s_raw)"
      ],
      "metadata": {
        "id": "ivji_hsmc0GH",
        "colab": {
          "base_uri": "https://localhost:8080/"
        },
        "outputId": "de0ed3b8-d164-432d-900d-4380109c0c83"
      },
      "execution_count": 14,
      "outputs": [
        {
          "output_type": "stream",
          "name": "stdout",
          "text": [
            "My cat's toy\n",
            "My cat's toy\n"
          ]
        }
      ]
    },
    {
      "cell_type": "markdown",
      "source": [
        "7. Створити змінну, що буде посилатися на Ваше прізвище латинкою. Створити форматований рядок, який буде мати вигляд \"My surname is ______\", де на місці нижніх підкреслень буде Ваше прізвище зі змінної."
      ],
      "metadata": {
        "id": "bg_d8wM4z8dS"
      }
    },
    {
      "cell_type": "code",
      "source": [
        "surname = 'Stoliaruk'\n",
        "s = 'My surname is ' + surname\n",
        "print(s)"
      ],
      "metadata": {
        "id": "kuxFgpWndACq",
        "colab": {
          "base_uri": "https://localhost:8080/"
        },
        "outputId": "fad05f95-0060-4d75-94fe-395f522b0eef"
      },
      "execution_count": null,
      "outputs": [
        {
          "output_type": "stream",
          "name": "stdout",
          "text": [
            "My surname is Stoliaruk\n"
          ]
        }
      ]
    },
    {
      "cell_type": "markdown",
      "source": [
        "8. Маючи рядок \"My dog is crazy.\" перетворити його на список [\"my\", \"dog\", \"is\", \"crazy\"]"
      ],
      "metadata": {
        "id": "1Nc6RqvQ0hxU"
      }
    },
    {
      "cell_type": "code",
      "source": [
        "s = \"My dog is crazy.\"\n",
        "s = s.lower()\n",
        "s = s.replace('.', '')\n",
        "list_s = s.split(' ')\n",
        "print(list_s)"
      ],
      "metadata": {
        "id": "w1Ya4RqedUhw",
        "colab": {
          "base_uri": "https://localhost:8080/"
        },
        "outputId": "744264ba-e6a0-4e83-e360-c40322a8c870"
      },
      "execution_count": null,
      "outputs": [
        {
          "output_type": "stream",
          "name": "stdout",
          "text": [
            "['my', 'dog', 'is', 'crazy']\n"
          ]
        }
      ]
    },
    {
      "cell_type": "markdown",
      "source": [
        "# IV. Робота зі списками."
      ],
      "metadata": {
        "id": "GYVqN9uP1D4n"
      }
    },
    {
      "cell_type": "markdown",
      "source": [
        "9. Створити список двома різними за синтаксисом способами. За допомогою вбудованої функції обчисліть довжину одного з них."
      ],
      "metadata": {
        "id": "7-DeDunw2sO-"
      }
    },
    {
      "cell_type": "code",
      "source": [
        "list_1 = [1, 2, 3]\n",
        "list_2 = list()\n",
        "\n",
        "print(len(list_1))\n",
        "print(len(list_2))"
      ],
      "metadata": {
        "id": "zxg06Uuxdyoh",
        "colab": {
          "base_uri": "https://localhost:8080/"
        },
        "outputId": "ccaa64ab-a6f6-4263-9892-7daaa7e7009d"
      },
      "execution_count": null,
      "outputs": [
        {
          "output_type": "stream",
          "name": "stdout",
          "text": [
            "3\n",
            "0\n"
          ]
        }
      ]
    },
    {
      "cell_type": "markdown",
      "source": [
        "10. Створіть два списка та за допомогою спеціального методу додайте другий з них в якості останнього елемента першого."
      ],
      "metadata": {
        "id": "8vmGUTjL22gI"
      }
    },
    {
      "cell_type": "code",
      "source": [
        "list_1 = [1, 2, 3]\n",
        "list_2 = ['a', 'b']\n",
        "list_1.append(list_2)\n",
        "\n",
        "print(list_1)"
      ],
      "metadata": {
        "id": "uHtjWYw7d7hm",
        "colab": {
          "base_uri": "https://localhost:8080/"
        },
        "outputId": "d4d04488-518f-4c13-c742-a286f8446981"
      },
      "execution_count": null,
      "outputs": [
        {
          "output_type": "stream",
          "name": "stdout",
          "text": [
            "[1, 2, 3, ['a', 'b']]\n"
          ]
        }
      ]
    },
    {
      "cell_type": "markdown",
      "source": [
        "11. Створіть список, де елементами цього списку також є списки. Отримай перший елемент з останнього рядка та виведи значення на екран."
      ],
      "metadata": {
        "id": "JC3BkD-67_--"
      }
    },
    {
      "cell_type": "code",
      "source": [
        "list_of_lists = [[1, 2, 3], ['a', 'b', 'c'], ['yuliia', 45]]\n",
        "first_el_of_last_row = list_of_lists[-1][0]\n",
        "print(first_el_of_last_row)"
      ],
      "metadata": {
        "id": "Kz2jZHsGeLlz",
        "colab": {
          "base_uri": "https://localhost:8080/"
        },
        "outputId": "c015e9ba-5b86-4d9a-98e7-4f22b7f42c35"
      },
      "execution_count": null,
      "outputs": [
        {
          "output_type": "stream",
          "name": "stdout",
          "text": [
            "yuliia\n"
          ]
        }
      ]
    },
    {
      "cell_type": "markdown",
      "source": [
        "12. Створіть список з десяти елементів різного типу. Отримайте всі елементи, окрім двох перших та двох останніх та збережіть їх в новій змінній."
      ],
      "metadata": {
        "id": "JA47PKTv8zFK"
      }
    },
    {
      "cell_type": "code",
      "source": [
        "l = [1, 'a', [1, 90], 4.5, 'y', list_1, list_2, 8, 7, 9]\n",
        "new_l = l[2:-2]\n",
        "print(new_l)"
      ],
      "metadata": {
        "id": "_rHdUR-ueP4-",
        "colab": {
          "base_uri": "https://localhost:8080/"
        },
        "outputId": "4dd9d0b4-d239-4f78-c6de-8a3ca169f054"
      },
      "execution_count": null,
      "outputs": [
        {
          "output_type": "stream",
          "name": "stdout",
          "text": [
            "[[1, 90], 4.5, 'y', [1, 2, 3, ['a', 'b']], ['a', 'b'], 8]\n"
          ]
        }
      ]
    },
    {
      "cell_type": "markdown",
      "source": [
        "# V. Робота з кортежами."
      ],
      "metadata": {
        "id": "pCjR1dJb1Qbi"
      }
    },
    {
      "cell_type": "markdown",
      "source": [
        "14. Створити кортеж з один елементом."
      ],
      "metadata": {
        "id": "fAZCxAX06R_k"
      }
    },
    {
      "cell_type": "code",
      "source": [
        "tup = (1)"
      ],
      "metadata": {
        "id": "H7d82WkQev3e"
      },
      "execution_count": null,
      "outputs": []
    },
    {
      "cell_type": "markdown",
      "source": [
        "15. Порівняйте список та кортеж. Назвіть схожості та відмінності, випадки використання."
      ],
      "metadata": {
        "id": "8LCtYcmI6w1M"
      }
    },
    {
      "cell_type": "markdown",
      "source": [
        "Схожість: Елементи в обох структурах можуть бути доступні за допомогою індексів.\n",
        "\n",
        "Відмінності:\n",
        "1.   Список - змінні, кортеж - незмінний\n",
        "2.   Список - [ ], кортеж - ( )\n",
        "3.   Кортежі використовуються, якщо для статичних данних. Списки - якщо дані планують змінювати."
      ],
      "metadata": {
        "id": "fUsN1Hnue0C6"
      }
    },
    {
      "cell_type": "markdown",
      "source": [
        "16. Створіть кортеж з 11ти елементів чисел з рухомою комою та отримайте кожен парний за індексом елемент в зворотньому порядку. Наприклад, маючи (1.2, 2.3, 3.3, 4.3, 5.3, 6.3, 7.3, 8.3, 9.3, 0.3), отримати (0.3, 8.3, 6.3, 4.3, 2.3). Результат збережіть в нову змінну та виведіть на екран."
      ],
      "metadata": {
        "id": "m0xrwFijAmDD"
      }
    },
    {
      "cell_type": "code",
      "source": [
        "tup = (1.2, 2.3, 3.3, 4.3, 5.3, 6.3, 7.3, 8.3, 9.3, 0.3)\n",
        "l = list(tup)\n",
        "l.reverse()\n",
        "l = l[0:len(l)-1:2]\n",
        "tup_l = tuple(l)\n",
        "print(tup_l)"
      ],
      "metadata": {
        "id": "p-5DAH6XfAGA",
        "colab": {
          "base_uri": "https://localhost:8080/"
        },
        "outputId": "e0e71a80-98ea-4bd7-9689-06d26d1c71d7"
      },
      "execution_count": null,
      "outputs": [
        {
          "output_type": "stream",
          "name": "stdout",
          "text": [
            "(0.3, 8.3, 6.3, 4.3, 2.3)\n"
          ]
        }
      ]
    },
    {
      "cell_type": "markdown",
      "source": [
        "# VI. Множини (Set)."
      ],
      "metadata": {
        "id": "rW_I9dt3x6cW"
      }
    },
    {
      "cell_type": "markdown",
      "source": [
        "17. Створити множину без елементів. Після цого за допомогою методу додайте кілька різних елементів до множини. Чи множини є змінним типом даних?"
      ],
      "metadata": {
        "id": "zNjRLHLw1Bgg"
      }
    },
    {
      "cell_type": "code",
      "source": [
        "set_1 = set()\n",
        "\n",
        "set_1.add(1)\n",
        "set_1.add('a')\n",
        "set_1.add('foo')\n",
        "\n",
        "print(set_1)\n",
        "print(type(set_1))"
      ],
      "metadata": {
        "id": "KOv7zc2Kfo4N",
        "colab": {
          "base_uri": "https://localhost:8080/"
        },
        "outputId": "1f80f725-28c6-4daa-f76e-8c36f28f77a9"
      },
      "execution_count": 5,
      "outputs": [
        {
          "output_type": "stream",
          "name": "stdout",
          "text": [
            "{1, 'a', 'foo'}\n",
            "<class 'set'>\n"
          ]
        }
      ]
    },
    {
      "cell_type": "markdown",
      "source": [
        "Множина є зміненним типом данних, але елементи, що містяться в множинні, повинні бути незмінного типу."
      ],
      "metadata": {
        "id": "vxS6dVYiftZQ"
      }
    },
    {
      "cell_type": "markdown",
      "source": [
        "18. Створити множину, маючи список my_list = [1, 1, 2, 67, 67, 8, 9]. Пояснити, чому \"зникли\" деякі елементи."
      ],
      "metadata": {
        "id": "gHpT0Zw_1HEF"
      }
    },
    {
      "cell_type": "code",
      "source": [
        "my_list = [1, 1, 2, 67, 67, 8, 9]\n",
        "\n",
        "set_2 = set(my_list)\n",
        "\n",
        "print(set_2)"
      ],
      "metadata": {
        "id": "qCN4uvJ_fxmu",
        "colab": {
          "base_uri": "https://localhost:8080/"
        },
        "outputId": "47a77fc7-3a32-42d8-9e24-19913b8f9138"
      },
      "execution_count": 6,
      "outputs": [
        {
          "output_type": "stream",
          "name": "stdout",
          "text": [
            "{1, 2, 67, 8, 9}\n"
          ]
        }
      ]
    },
    {
      "cell_type": "markdown",
      "source": [
        "Елементи у множинні повинні бути унікальними, тому дублікати видаляються."
      ],
      "metadata": {
        "id": "tFNc1e20fyny"
      }
    },
    {
      "cell_type": "markdown",
      "source": [
        "19. Створіть дві множини. Продемонстуйте над ними операції: обʼєднання, різниці, пересічі та симетричної різниці. Використовуйте методи, що не змінюють множини, а створюють нові."
      ],
      "metadata": {
        "id": "SRMkGizS1UwY"
      }
    },
    {
      "cell_type": "code",
      "source": [
        "set_1 = {1, 2, 3, 4, 5, 6}\n",
        "set_2 = {2, 4, 6, 8, 10, 22}\n",
        "\n",
        "#обʼєднання\n",
        "union_set = set_1.union(set_2)\n",
        "print(f\"Об'єднання множин: {union_set}\")\n",
        "\n",
        "#різниця\n",
        "difference_set = set_1.difference(set_2)\n",
        "print(f\"Різниця множин: {difference_set}\")\n",
        "\n",
        "#пересіч\n",
        "intersection_set = set_1.intersection(set_2)\n",
        "print(f\"Пересіч множин: {intersection_set}\")\n",
        "\n",
        "#симетрична різниця\n",
        "symmetr_diff_set = set_1.symmetric_difference(set_2)\n",
        "print(f\"Симетрична різниця множин: {symmetr_diff_set}\")"
      ],
      "metadata": {
        "id": "h0T-VuDnf3Ri",
        "colab": {
          "base_uri": "https://localhost:8080/"
        },
        "outputId": "38a6183f-0a93-4c9e-b0f0-e8b4798e7fd7"
      },
      "execution_count": 12,
      "outputs": [
        {
          "output_type": "stream",
          "name": "stdout",
          "text": [
            "Об'єднання множин: {1, 2, 3, 4, 5, 6, 8, 10, 22}\n",
            "Різниця множин: {1, 3, 5}\n",
            "Пересіч множин: {2, 4, 6}\n",
            "Симетрична різниця множин: {1, 3, 5, 8, 10, 22}\n"
          ]
        }
      ]
    },
    {
      "cell_type": "markdown",
      "source": [
        "# VII. Словники (Dictionary)."
      ],
      "metadata": {
        "id": "kWc8gkzTx7Ea"
      }
    },
    {
      "cell_type": "markdown",
      "source": [
        "20. Створіть пустий словник. До нього додайте чотири пари елементів такі, щоб їхні ключі були різних типів. Чи може список бути ключем? Чому?"
      ],
      "metadata": {
        "id": "i5FLwj-B2ybQ"
      }
    },
    {
      "cell_type": "code",
      "source": [
        "dict_1 = dict()\n",
        "\n",
        "dict_1[3] = 'c'\n",
        "dict_1[(1, 5)] = 'apple'\n",
        "dict_1[True] = 1\n",
        "dict_1[float] = 8.4\n",
        "\n",
        "print(dict_1)"
      ],
      "metadata": {
        "id": "hxgv3BzrgLAV",
        "colab": {
          "base_uri": "https://localhost:8080/"
        },
        "outputId": "d37a8c6a-826a-4ea7-8d0b-ce5095e0df71"
      },
      "execution_count": 3,
      "outputs": [
        {
          "output_type": "stream",
          "name": "stdout",
          "text": [
            "{3: 'c', (1, 5): 'apple', True: 1, <class 'float'>: 8.4}\n"
          ]
        }
      ]
    },
    {
      "cell_type": "markdown",
      "source": [
        "Список **не може** бути ключем. Ключі у словнику повинні бути незмінних типів, а список - змінний тип даних."
      ],
      "metadata": {
        "id": "zwa7UVN-gR3m"
      }
    },
    {
      "cell_type": "markdown",
      "source": [
        "21. Створіть словник, де значенням в одній з пар теж буде словник, який теж має вкладений словник. Виведіть на екран значення, що міститься в словнику, що знаходиться на найнижчому рівні ієрархії вкладеності (найбільш внутрішній)."
      ],
      "metadata": {
        "id": "WM_pMlJsgoNf"
      }
    },
    {
      "cell_type": "code",
      "source": [
        "dict_students = {'student_1': {'name': 'Yuliia',\n",
        "                               'surname': 'Stoliaruk',\n",
        "                               'course': {'credits': 4,\n",
        "                                          'name': 'Python for Big Data and Data Science'}}}\n",
        "\n",
        "course_name = dict_students['student_1']['course'].get('name')\n",
        "print(course_name)"
      ],
      "metadata": {
        "id": "60dlP7IHhAy4",
        "colab": {
          "base_uri": "https://localhost:8080/"
        },
        "outputId": "5745f273-adce-403b-e629-e67f2e36869a"
      },
      "execution_count": 5,
      "outputs": [
        {
          "output_type": "stream",
          "name": "stdout",
          "text": [
            "Python for Big Data and Data Science\n"
          ]
        }
      ]
    },
    {
      "cell_type": "markdown",
      "source": [
        "# Вітаю! Ви велика(ий) молодець, що впоралась(вся). Похваліть себе та побалуйте чимось приємним. Я Вами пишаюся."
      ],
      "metadata": {
        "id": "xOZP0hkx6cCr"
      }
    }
  ]
}