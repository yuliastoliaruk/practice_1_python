{
  "nbformat": 4,
  "nbformat_minor": 0,
  "metadata": {
    "colab": {
      "provenance": []
    },
    "kernelspec": {
      "name": "python3",
      "display_name": "Python 3"
    },
    "language_info": {
      "name": "python"
    }
  },
  "cells": [
    {
      "cell_type": "markdown",
      "source": [
        "# I. OOP"
      ],
      "metadata": {
        "id": "5qV_sehzFCTp"
      }
    },
    {
      "cell_type": "markdown",
      "source": [
        "1. (6б). Створіть клас Animal, додайте три атрибути, один з яких має значення за замовчуванням та два методи на свій розсуд."
      ],
      "metadata": {
        "id": "tx_U_hOALyfg"
      }
    },
    {
      "cell_type": "code",
      "source": [
        "class Animal():\n",
        "    def __init__(self, name, distribution_area, conservation_status = 'lower risk'):\n",
        "        self.name = name\n",
        "        self.distribution_area = distribution_area\n",
        "        self.conservation_status = conservation_status\n",
        "\n",
        "    def __str__(self):\n",
        "        return f\"The {self.name}'s distribution area is {self.distribution_area}.\\nThe conservation status of the {self.name} is {self.conservation_status}\"\n",
        "\n",
        "    def died_out(self):\n",
        "        self.conservation_status = 'extinct'\n",
        "        return None"
      ],
      "metadata": {
        "id": "-Vf895KaL88N"
      },
      "execution_count": 1,
      "outputs": []
    },
    {
      "cell_type": "markdown",
      "source": [
        "2. (2б). Створіть два обʼєкти цього класу, де один з обʼєктів створюється із дефолтним значенням атрибуту. На одному обʼєкті отримайте значення його атрибуту, а на іншому викличте один з його методів."
      ],
      "metadata": {
        "id": "X_UlOMB0L93w"
      }
    },
    {
      "cell_type": "code",
      "source": [
        "sparrow = Animal('sparrow', 'Europe')\n",
        "print(sparrow.conservation_status)\n",
        "\n",
        "tiger = Animal('tiger', 'Asia', 'threatened')\n",
        "tiger.died_out()\n",
        "print(tiger)"
      ],
      "metadata": {
        "id": "7gBu0ESOMCpG",
        "colab": {
          "base_uri": "https://localhost:8080/"
        },
        "outputId": "c1c7610a-03b6-4e1e-dd87-cbf550011530"
      },
      "execution_count": 2,
      "outputs": [
        {
          "output_type": "stream",
          "name": "stdout",
          "text": [
            "lower risk\n",
            "The tiger's distribution area is Asia.\n",
            "The conservation status of the tiger is extinct\n"
          ]
        }
      ]
    },
    {
      "cell_type": "markdown",
      "source": [
        "3. (5б). Створіть клас, де атрибути мають різні рівні доступу. Спробуйте отримати їхні значення та опишіть результати."
      ],
      "metadata": {
        "id": "HoqSCZt1MHn5"
      }
    },
    {
      "cell_type": "code",
      "source": [
        "class Student():\n",
        "    def __init__(self, name, surname, age, number, id):\n",
        "        self.name = name #public\n",
        "        self.surname = surname #public\n",
        "        self._age = age #protected\n",
        "        self._number = number #protected\n",
        "        self.__id = id #private\n",
        "\n",
        "\n",
        "student1 = Student('Yuliia', 'Stoliaruk', 19, '+380227788669', '01ys')"
      ],
      "metadata": {
        "id": "r9b3vJxBMSPV"
      },
      "execution_count": 3,
      "outputs": []
    },
    {
      "cell_type": "code",
      "source": [
        "#accessing public atribute\n",
        "student1.name"
      ],
      "metadata": {
        "colab": {
          "base_uri": "https://localhost:8080/",
          "height": 36
        },
        "id": "tm1jsumjRfWp",
        "outputId": "a32d7cde-4078-4ef1-c5f8-814ef6376ecd"
      },
      "execution_count": 4,
      "outputs": [
        {
          "output_type": "execute_result",
          "data": {
            "text/plain": [
              "'Yuliia'"
            ],
            "application/vnd.google.colaboratory.intrinsic+json": {
              "type": "string"
            }
          },
          "metadata": {},
          "execution_count": 4
        }
      ]
    },
    {
      "cell_type": "code",
      "source": [
        "#accessing protected atribute\n",
        "student1._age"
      ],
      "metadata": {
        "colab": {
          "base_uri": "https://localhost:8080/"
        },
        "id": "bT333IOwRbip",
        "outputId": "368041aa-2f58-4701-97e5-9bcc2614a609"
      },
      "execution_count": 5,
      "outputs": [
        {
          "output_type": "execute_result",
          "data": {
            "text/plain": [
              "19"
            ]
          },
          "metadata": {},
          "execution_count": 5
        }
      ]
    },
    {
      "cell_type": "code",
      "source": [
        "#accessing private atribute\n",
        "student1.__id"
      ],
      "metadata": {
        "colab": {
          "base_uri": "https://localhost:8080/",
          "height": 158
        },
        "id": "dIBuLvsJRbOu",
        "outputId": "a4225688-a704-4f2d-e393-156bd2da71c0"
      },
      "execution_count": 6,
      "outputs": [
        {
          "output_type": "error",
          "ename": "AttributeError",
          "evalue": "'Student' object has no attribute '__id'",
          "traceback": [
            "\u001b[0;31m---------------------------------------------------------------------------\u001b[0m",
            "\u001b[0;31mAttributeError\u001b[0m                            Traceback (most recent call last)",
            "\u001b[0;32m<ipython-input-6-82ac25edc030>\u001b[0m in \u001b[0;36m<cell line: 2>\u001b[0;34m()\u001b[0m\n\u001b[1;32m      1\u001b[0m \u001b[0;31m#accessing private atribute\u001b[0m\u001b[0;34m\u001b[0m\u001b[0;34m\u001b[0m\u001b[0m\n\u001b[0;32m----> 2\u001b[0;31m \u001b[0mstudent1\u001b[0m\u001b[0;34m.\u001b[0m\u001b[0m__id\u001b[0m\u001b[0;34m\u001b[0m\u001b[0;34m\u001b[0m\u001b[0m\n\u001b[0m",
            "\u001b[0;31mAttributeError\u001b[0m: 'Student' object has no attribute '__id'"
          ]
        }
      ]
    },
    {
      "cell_type": "code",
      "source": [
        "student1._Student__id"
      ],
      "metadata": {
        "colab": {
          "base_uri": "https://localhost:8080/",
          "height": 36
        },
        "id": "Mal1FQiMvNqB",
        "outputId": "57182d2d-a60f-4c6d-c8a2-37fc9ee8360f"
      },
      "execution_count": 7,
      "outputs": [
        {
          "output_type": "execute_result",
          "data": {
            "text/plain": [
              "'01ys'"
            ],
            "application/vnd.google.colaboratory.intrinsic+json": {
              "type": "string"
            }
          },
          "metadata": {},
          "execution_count": 7
        }
      ]
    },
    {
      "cell_type": "markdown",
      "source": [
        "*  Публічні атрибути можна отримати\n",
        "*  Захищені атрибути можна отримати, але не рекомендується (для python немає відмінності між публічними і захищеними)\n",
        "*  Приватні атрибути не можна отримати викликаючи через звичну дот нотацію (python ховає цю змінну), але можна викликати, якщо використовувати назва змінної._назва класу__назва атрибуту"
      ],
      "metadata": {
        "id": "8khGucaiSQAD"
      }
    },
    {
      "cell_type": "markdown",
      "source": [
        "4. (7б). Як ви розумієте термін self? Для чого використовується метод __init __?"
      ],
      "metadata": {
        "id": "5op2m2vgMSkZ"
      }
    },
    {
      "cell_type": "markdown",
      "source": [
        "*  Термін self означає посилання на сам об'єкт, по якому викликається метод чи атрибут. Вказує на поточний екземпляр класу, тобто на самого себе.\n",
        "*  Метод __ init __ використовується для ініціалізації об'єкта з атрибутами. Метод __ init __ автоматично викликається, коли створюється новий об'єкт класу."
      ],
      "metadata": {
        "id": "DyiPqNRvMasx"
      }
    },
    {
      "cell_type": "markdown",
      "source": [
        "5. (9б). Створіть клас Фігура без атрибутів, з методом get_area для отримання площі фігури, що повертає 0 та __add __, який приймає self та other в якості аргументів, а повертає суму площин фігур self та other."
      ],
      "metadata": {
        "id": "-6X8EGfjMd2y"
      }
    },
    {
      "cell_type": "code",
      "source": [
        "class Figure():\n",
        "    def get_area(self):\n",
        "        return 0\n",
        "\n",
        "    def __add__(self, other):\n",
        "        return self.get_area() + other.get_area()"
      ],
      "metadata": {
        "id": "4rvO_wYUMaEr"
      },
      "execution_count": 8,
      "outputs": []
    },
    {
      "cell_type": "code",
      "source": [
        "figure1 = Figure()\n",
        "figure2 = Figure()\n",
        "figure1 + figure2"
      ],
      "metadata": {
        "colab": {
          "base_uri": "https://localhost:8080/"
        },
        "id": "W8vIwvLwVWbY",
        "outputId": "1f6f7881-3502-4d79-f92c-eee562204c3e"
      },
      "execution_count": 9,
      "outputs": [
        {
          "output_type": "execute_result",
          "data": {
            "text/plain": [
              "0"
            ]
          },
          "metadata": {},
          "execution_count": 9
        }
      ]
    },
    {
      "cell_type": "markdown",
      "source": [
        "6. (11б). Створіть 2 дочірніх класи від Фігури: Трикутник та Коло, які мають атрибути, необхідні для розрахунку площин. Визначте метод get_area в кожному з них так, щоби вони розраховували площу в залежності від формули для кожного типу фігури. Створіть обʼєкт класу Трикутник та обʼєкт класу Коло. Виконайте операцію суми за допомогою оператора + між ними."
      ],
      "metadata": {
        "id": "SFcKnnv5Mo_z"
      }
    },
    {
      "cell_type": "code",
      "source": [
        "class Triangle(Figure):\n",
        "    def __init__(self, a, b, c):\n",
        "        self.a = a\n",
        "        self.b = b\n",
        "        self.c = c\n",
        "\n",
        "    def get_area(self):\n",
        "        p = (self.a + self.b + self.c) / 2\n",
        "        S = (p * (p - self.a) * (p - self.b) * (p - self.c)) ** (1/2)\n",
        "        return S\n",
        "\n",
        "\n",
        "class Circle(Figure):\n",
        "    def __init__(self, r):\n",
        "        self.r = r\n",
        "\n",
        "    def get_area(self, pi = 3.14):\n",
        "        S = pi * (self.r ** 2)\n",
        "        return S\n",
        "\n",
        "\n",
        "triangle = Triangle(3, 4, 5)\n",
        "circle = Circle(4)\n",
        "\n",
        "triangle + circle"
      ],
      "metadata": {
        "id": "H3GVNr69Muf3",
        "colab": {
          "base_uri": "https://localhost:8080/"
        },
        "outputId": "4a683acc-5ca9-4015-f2ec-e43ce0cab383"
      },
      "execution_count": 10,
      "outputs": [
        {
          "output_type": "execute_result",
          "data": {
            "text/plain": [
              "56.24"
            ]
          },
          "metadata": {},
          "execution_count": 10
        }
      ]
    },
    {
      "cell_type": "markdown",
      "source": [
        "7. (3б). Продемонструйте різницю між isinstance та issubclass."
      ],
      "metadata": {
        "id": "HCvR206YMvLK"
      }
    },
    {
      "cell_type": "markdown",
      "source": [
        "*  isinstance() - перевіряє чи належить об'єкт класу\n",
        "*  issubclass() - перевіряє чи клас наслідує інший **клас**"
      ],
      "metadata": {
        "id": "2Ai4WPdnqrCG"
      }
    },
    {
      "cell_type": "code",
      "source": [
        "print(f\"Чи triangle є об'єктом типу Triangle: {isinstance(triangle, Triangle)}\")\n",
        "print(f\"Чи triangle є об'єктом типу Figure: {isinstance(triangle, Figure)}\")\n",
        "print(f\"Чи triangle є об'єктом типу Circle: {isinstance(triangle, Circle)}\")\n",
        "print('-'*50)\n",
        "print(f\"Чи Triangle є об'єктом типу Figure: {issubclass(Triangle, Figure)}\")\n",
        "print(f\"Чи Figure є об'єктом типу Triangle: {issubclass(Figure, Triangle)}\")"
      ],
      "metadata": {
        "id": "L_V1bBvDM0GN",
        "colab": {
          "base_uri": "https://localhost:8080/"
        },
        "outputId": "aa6cbe5f-8d24-41f8-815c-a073726d395c"
      },
      "execution_count": 11,
      "outputs": [
        {
          "output_type": "stream",
          "name": "stdout",
          "text": [
            "Чи triangle є об'єктом типу Triangle: True\n",
            "Чи triangle є об'єктом типу Figure: True\n",
            "Чи triangle є об'єктом типу Circle: False\n",
            "--------------------------------------------------\n",
            "Чи Triangle є об'єктом типу Figure: True\n",
            "Чи Figure є об'єктом типу Triangle: False\n"
          ]
        }
      ]
    },
    {
      "cell_type": "markdown",
      "source": [
        "8. (13б). Створіть клас BankAccount з приватними атрибутами balance та account_number. Реалізуйте методи поповнення та зняття коштів, забезпечивши належну інкапсуляцію. Підказка: використовуйте декоратори property та setter."
      ],
      "metadata": {
        "id": "jjsaBZ-iM0Qq"
      }
    },
    {
      "cell_type": "code",
      "source": [
        "class BankAccount():\n",
        "    def __init__(self, balance, account_number):\n",
        "        self.__balance = balance\n",
        "        self.__account_number = account_number\n",
        "\n",
        "    @property\n",
        "    def balance(self):\n",
        "        return self.__balance\n",
        "\n",
        "    @balance.setter\n",
        "    def balance(self, balance):\n",
        "        if balance >= 0:\n",
        "            self.__balance = balance\n",
        "        else:\n",
        "            print('Transaction is cancelled.\\nCheck your balance')\n",
        "\n",
        "\n",
        "    def top_up(self, cash):\n",
        "        new_balance = self.balance + cash\n",
        "        self.balance = new_balance\n",
        "        return None\n",
        "\n",
        "    def withdraw(self, cash):\n",
        "        new_balance = self.balance - cash\n",
        "        self.balance = new_balance\n",
        "        return None\n"
      ],
      "metadata": {
        "id": "xCvZ7lh8M7YA"
      },
      "execution_count": 12,
      "outputs": []
    },
    {
      "cell_type": "code",
      "source": [
        "account_1 = BankAccount(1500, 'yyuuqq345')\n",
        "print(account_1.balance)\n",
        "print('-'*50)\n",
        "\n",
        "account_1.top_up(500)\n",
        "print(account_1.balance)\n",
        "print('-'*50)\n",
        "\n",
        "account_1.withdraw(1000)\n",
        "print(account_1.balance)\n",
        "print('-'*50)\n",
        "\n",
        "account_1.withdraw(1500)\n",
        "print(account_1.balance)"
      ],
      "metadata": {
        "colab": {
          "base_uri": "https://localhost:8080/"
        },
        "id": "jXyxHJmeBo3d",
        "outputId": "548fb5a0-cb79-4a97-81c4-5e7532dfdc0b"
      },
      "execution_count": 13,
      "outputs": [
        {
          "output_type": "stream",
          "name": "stdout",
          "text": [
            "1500\n",
            "--------------------------------------------------\n",
            "2000\n",
            "--------------------------------------------------\n",
            "1000\n",
            "--------------------------------------------------\n",
            "Transaction is cancelled.\n",
            "Check your balance\n",
            "1000\n"
          ]
        }
      ]
    },
    {
      "cell_type": "markdown",
      "source": [
        "9. (11б). Створіть клас Library, який містить список об'єктів типу Book. Реалізуйте методи для додавання книги, видалення книги та відображення списку книг."
      ],
      "metadata": {
        "id": "tIzL2SJTM8ft"
      }
    },
    {
      "cell_type": "code",
      "source": [
        "class Book():\n",
        "    def __init__(self, name, author):\n",
        "        self.name = name\n",
        "        self.author = author\n",
        "\n",
        "    def __str__(self):\n",
        "        return f'\"{self.name}\" by {self.author}'\n",
        "\n",
        "\n",
        "class Library():\n",
        "      def __init__(self):\n",
        "          self.books = []\n",
        "\n",
        "      def add(self, book):\n",
        "          self.books.append(book)\n",
        "\n",
        "      def remove(self, book):\n",
        "          self.books.remove(book)\n",
        "\n",
        "      def __str__(self):\n",
        "          message = 'List of books:\\n'\n",
        "          for book in self.books:\n",
        "              message += (str(book) + '\\n')\n",
        "          return message\n",
        "\n",
        "\n",
        "\n",
        "book1 = Book('Harry Potter', 'J. K. Rowling')\n",
        "book2 = Book('Kobzar', 'T. H. Shevchenko')\n",
        "\n",
        "library1 = Library()\n",
        "library1.add(book1)\n",
        "library1.add(book2)\n",
        "\n",
        "print(library1)\n",
        "\n",
        "library1.remove(book1)\n",
        "print(library1)"
      ],
      "metadata": {
        "id": "HWxfJKLtNAUZ",
        "colab": {
          "base_uri": "https://localhost:8080/"
        },
        "outputId": "72a4bf6e-0145-4973-cd65-5e825427fee0"
      },
      "execution_count": 14,
      "outputs": [
        {
          "output_type": "stream",
          "name": "stdout",
          "text": [
            "List of books:\n",
            "\"Harry Potter\" by J. K. Rowling\n",
            "\"Kobzar\" by T. H. Shevchenko\n",
            "\n",
            "List of books:\n",
            "\"Kobzar\" by T. H. Shevchenko\n",
            "\n"
          ]
        }
      ]
    },
    {
      "cell_type": "markdown",
      "source": [
        "10. (13б). Створіть клас Person з атрибутами name та age. Створіть ще один клас Employee з такими атрибутами, як department та salary. Створіть клас Manager, який успадковує обидва класи Person та Employee. Продемонструйте використання множинної спадковості, створивши обʼєкт класу Manager та отримавши mro для цього класу."
      ],
      "metadata": {
        "id": "lmV8pAwwNIqu"
      }
    },
    {
      "cell_type": "code",
      "source": [
        "class Person():\n",
        "    def __init__(self, name, age):\n",
        "        self.name = name\n",
        "        self.age = age\n",
        "\n",
        "\n",
        "class Employee():\n",
        "    def __init__(self, department, salary):\n",
        "        self.department = department\n",
        "        self.salary = salary\n",
        "\n",
        "\n",
        "class Manager(Person, Employee):\n",
        "    def __init__(self, name, age, department, salary):\n",
        "        Person.__init__(self, name, age)\n",
        "        Employee.__init__(self, department, salary)\n",
        "\n",
        "\n",
        "manager = Manager('Yuliia', 19, 'FI', 2000)\n",
        "print(Manager.mro())"
      ],
      "metadata": {
        "id": "R49grKlWNPeN",
        "colab": {
          "base_uri": "https://localhost:8080/"
        },
        "outputId": "440da53e-acab-40f4-efd6-0c5989fbe858"
      },
      "execution_count": 15,
      "outputs": [
        {
          "output_type": "stream",
          "name": "stdout",
          "text": [
            "[<class '__main__.Manager'>, <class '__main__.Person'>, <class '__main__.Employee'>, <class 'object'>]\n"
          ]
        }
      ]
    },
    {
      "cell_type": "markdown",
      "source": [
        "# II. Iterator"
      ],
      "metadata": {
        "id": "dIJyUiNBFG8G"
      }
    },
    {
      "cell_type": "markdown",
      "source": [
        "11. (4б). Визначте рядок(str) з 4ма різними за значенням символами. Створіть ітератор на основі цього рядка. Викличте 5 разів функцію next на ітераторі, 4ри перших з них огорніть у ф-цію print()."
      ],
      "metadata": {
        "id": "13vsm0NyKIzL"
      }
    },
    {
      "cell_type": "code",
      "source": [
        "rain = 'rain'\n",
        "rain_iter = iter(rain)\n",
        "print(next(rain_iter))\n",
        "print(next(rain_iter))\n",
        "print(next(rain_iter))\n",
        "print(next(rain_iter))\n",
        "next(rain_iter)"
      ],
      "metadata": {
        "id": "81ntabAkKuz-",
        "colab": {
          "base_uri": "https://localhost:8080/",
          "height": 245
        },
        "outputId": "ba01503a-dd25-4e0f-eda5-7531474ea2e7"
      },
      "execution_count": 16,
      "outputs": [
        {
          "output_type": "stream",
          "name": "stdout",
          "text": [
            "r\n",
            "a\n",
            "i\n",
            "n\n"
          ]
        },
        {
          "output_type": "error",
          "ename": "StopIteration",
          "evalue": "",
          "traceback": [
            "\u001b[0;31m---------------------------------------------------------------------------\u001b[0m",
            "\u001b[0;31mStopIteration\u001b[0m                             Traceback (most recent call last)",
            "\u001b[0;32m<ipython-input-16-e8ceba8c0833>\u001b[0m in \u001b[0;36m<cell line: 7>\u001b[0;34m()\u001b[0m\n\u001b[1;32m      5\u001b[0m \u001b[0mprint\u001b[0m\u001b[0;34m(\u001b[0m\u001b[0mnext\u001b[0m\u001b[0;34m(\u001b[0m\u001b[0mrain_iter\u001b[0m\u001b[0;34m)\u001b[0m\u001b[0;34m)\u001b[0m\u001b[0;34m\u001b[0m\u001b[0;34m\u001b[0m\u001b[0m\n\u001b[1;32m      6\u001b[0m \u001b[0mprint\u001b[0m\u001b[0;34m(\u001b[0m\u001b[0mnext\u001b[0m\u001b[0;34m(\u001b[0m\u001b[0mrain_iter\u001b[0m\u001b[0;34m)\u001b[0m\u001b[0;34m)\u001b[0m\u001b[0;34m\u001b[0m\u001b[0;34m\u001b[0m\u001b[0m\n\u001b[0;32m----> 7\u001b[0;31m \u001b[0mnext\u001b[0m\u001b[0;34m(\u001b[0m\u001b[0mrain_iter\u001b[0m\u001b[0;34m)\u001b[0m\u001b[0;34m\u001b[0m\u001b[0;34m\u001b[0m\u001b[0m\n\u001b[0m",
            "\u001b[0;31mStopIteration\u001b[0m: "
          ]
        }
      ]
    },
    {
      "cell_type": "markdown",
      "source": [
        "А що якщо викликати цю ж функцію на рядку?"
      ],
      "metadata": {
        "id": "aekWHGXOLRsO"
      }
    },
    {
      "cell_type": "code",
      "source": [
        "next(rain)"
      ],
      "metadata": {
        "id": "mxATGsErLV1i",
        "colab": {
          "base_uri": "https://localhost:8080/",
          "height": 141
        },
        "outputId": "1e78380b-59a5-4515-c628-216cc4fc510c"
      },
      "execution_count": 17,
      "outputs": [
        {
          "output_type": "error",
          "ename": "TypeError",
          "evalue": "'str' object is not an iterator",
          "traceback": [
            "\u001b[0;31m---------------------------------------------------------------------------\u001b[0m",
            "\u001b[0;31mTypeError\u001b[0m                                 Traceback (most recent call last)",
            "\u001b[0;32m<ipython-input-17-ad5e4e16a496>\u001b[0m in \u001b[0;36m<cell line: 1>\u001b[0;34m()\u001b[0m\n\u001b[0;32m----> 1\u001b[0;31m \u001b[0mnext\u001b[0m\u001b[0;34m(\u001b[0m\u001b[0mrain\u001b[0m\u001b[0;34m)\u001b[0m\u001b[0;34m\u001b[0m\u001b[0;34m\u001b[0m\u001b[0m\n\u001b[0m",
            "\u001b[0;31mTypeError\u001b[0m: 'str' object is not an iterator"
          ]
        }
      ]
    },
    {
      "cell_type": "markdown",
      "source": [
        " 12. (5б). Опишіть своїми словами в одному реченні, як ви розумієте різницю між ітерабельними обʼєктами та ітераторами (можна на прикладі)."
      ],
      "metadata": {
        "id": "XwtMEopwJ4pH"
      }
    },
    {
      "cell_type": "markdown",
      "source": [
        "*  Ітерабельні об'єкти - це (здебільшого) лінійний набір даних, по якому можна пройтись в циклі, а ітератор - це об'єкт за допомогою якого ми проходимось по ітерабельному об'єкту (ітеруємо)."
      ],
      "metadata": {
        "id": "-sHrODc3KFn8"
      }
    },
    {
      "cell_type": "markdown",
      "source": [
        "13. (11б). Створіть клас, що має визначений Iterator Protocol та при кожному виклику next повертає літери англійської абетки, поки вони не вичерпаються."
      ],
      "metadata": {
        "id": "E9qJWmNbK8Gl"
      }
    },
    {
      "cell_type": "code",
      "source": [
        "class Alphabet():\n",
        "    def __init__(self, first_char = 97, last_char = 122):\n",
        "        self.i = first_char\n",
        "        self.last_char = last_char\n",
        "\n",
        "    def __iter__(self):\n",
        "        return self\n",
        "\n",
        "    def __next__(self):\n",
        "        if self.i > self.last_char:\n",
        "            raise StopIteration\n",
        "        else:\n",
        "           character = chr(self.i)\n",
        "           self.i += 1\n",
        "           return character\n",
        "\n",
        "\n",
        "english_alphabet = Alphabet()\n",
        "next(english_alphabet)\n",
        "next(english_alphabet)\n",
        "next(english_alphabet)\n",
        "next(english_alphabet)"
      ],
      "metadata": {
        "id": "cqx-g_RsLo6I",
        "colab": {
          "base_uri": "https://localhost:8080/",
          "height": 36
        },
        "outputId": "c6b1ce44-cb78-4826-ca50-8585dfaad605"
      },
      "execution_count": 18,
      "outputs": [
        {
          "output_type": "execute_result",
          "data": {
            "text/plain": [
              "'d'"
            ],
            "application/vnd.google.colaboratory.intrinsic+json": {
              "type": "string"
            }
          },
          "metadata": {},
          "execution_count": 18
        }
      ]
    },
    {
      "cell_type": "markdown",
      "source": [
        "# Вітаю! Ви велика(ий) молодець, що впоралась(вся). Похваліть себе та побалуйте чимось приємним. Я Вами пишаюся."
      ],
      "metadata": {
        "id": "Z3E3S_s1Fv7-"
      }
    }
  ]
}